{
 "cells": [
  {
   "cell_type": "markdown",
   "metadata": {
    "colab_type": "text",
    "id": "B_pTiXPohQ_J"
   },
   "source": [
    "Assignment 7: Deep Learning for Handwritten Digit Recognition\n",
    "\n"
   ]
  },
  {
   "cell_type": "markdown",
   "metadata": {
    "colab_type": "text",
    "id": "ebbl4cWkiA5E"
   },
   "source": [
    "\n",
    "1) Load MNIST Dataset using Keras library (check my lecture slides regarding how to load MNIST Dataset)"
   ]
  },
  {
   "cell_type": "code",
   "execution_count": 1,
   "metadata": {
    "colab": {
     "base_uri": "https://localhost:8080/",
     "height": 34
    },
    "colab_type": "code",
    "executionInfo": {
     "elapsed": 2829,
     "status": "ok",
     "timestamp": 1588172443274,
     "user": {
      "displayName": "Yanan Song",
      "photoUrl": "",
      "userId": "00508964450983762398"
     },
     "user_tz": 300
    },
    "id": "z0HZAYDn3-O0",
    "outputId": "59ed413f-bd44-423b-f8fe-5dd98f47e113"
   },
   "outputs": [
    {
     "name": "stderr",
     "output_type": "stream",
     "text": [
      "Using TensorFlow backend.\n"
     ]
    }
   ],
   "source": [
    "import keras\n",
    "from keras.datasets import mnist\n",
    "from keras.models import Sequential\n",
    "from keras.layers import Dense, Dropout, Flatten, BatchNormalization\n",
    "from keras.layers import Conv2D, MaxPooling2D\n",
    "from keras import backend as K\n",
    "from keras import optimizers\n"
   ]
  },
  {
   "cell_type": "code",
   "execution_count": 2,
   "metadata": {
    "colab": {
     "base_uri": "https://localhost:8080/",
     "height": 51
    },
    "colab_type": "code",
    "executionInfo": {
     "elapsed": 4523,
     "status": "ok",
     "timestamp": 1588172444976,
     "user": {
      "displayName": "Yanan Song",
      "photoUrl": "",
      "userId": "00508964450983762398"
     },
     "user_tz": 300
    },
    "id": "ZOPNJpj63-O6",
    "outputId": "f12d5530-cda8-407b-e209-19d290f0bec0"
   },
   "outputs": [
    {
     "name": "stdout",
     "output_type": "stream",
     "text": [
      "Downloading data from https://s3.amazonaws.com/img-datasets/mnist.npz\n",
      "11493376/11490434 [==============================] - 1s 0us/step\n"
     ]
    }
   ],
   "source": [
    "(X_train, y_train), (X_test, y_test) = mnist.load_data()"
   ]
  },
  {
   "cell_type": "markdown",
   "metadata": {
    "colab_type": "text",
    "id": "qvMLeONTiFI7"
   },
   "source": [
    "2) Apply min-max feature scaling."
   ]
  },
  {
   "cell_type": "code",
   "execution_count": 0,
   "metadata": {
    "colab": {},
    "colab_type": "code",
    "id": "Udt68NA-3-O_"
   },
   "outputs": [],
   "source": [
    "from sklearn.preprocessing import MinMaxScaler\n",
    "import numpy as np\n",
    "X_train_min_max = np.empty((X_train.shape),dtype='float32')\n",
    "X_test_min_max = np.empty((X_test.shape),dtype='float32')\n",
    "for i, image in enumerate(X_train):\n",
    "    scaler = MinMaxScaler(feature_range=(0,1))\n",
    "    scaler.fit(image)\n",
    "    X_train_min_max[i] = scaler.transform(image)\n",
    "for i, image in enumerate(X_test):\n",
    "    scaler = MinMaxScaler(feature_range=(0,1))\n",
    "    scaler.fit(image)\n",
    "    X_test_min_max[i] = scaler.transform(image)"
   ]
  },
  {
   "cell_type": "markdown",
   "metadata": {
    "colab_type": "text",
    "id": "pqCcSR1hiIcP"
   },
   "source": [
    "3) Use Keras Python API to implement a Deep Neural Network (DNN) that contains 5 hidden\n",
    "layers with 8, 16, 32, 64, 128 hidden nodes from hidden layer 1 to hidden layer 5, respectively.\n",
    "a. Properly adjust hyperparameters such as epochs, learning rate, activation function, etc. You may try a set of parameters and select the one set that produces the highest accuracy."
   ]
  },
  {
   "cell_type": "code",
   "execution_count": 4,
   "metadata": {
    "colab": {
     "base_uri": "https://localhost:8080/",
     "height": 357
    },
    "colab_type": "code",
    "executionInfo": {
     "elapsed": 26141,
     "status": "ok",
     "timestamp": 1588172466602,
     "user": {
      "displayName": "Yanan Song",
      "photoUrl": "",
      "userId": "00508964450983762398"
     },
     "user_tz": 300
    },
    "id": "3FRJ3ufb3-PD",
    "outputId": "98a13cb1-1290-475d-956e-12888f62c4e2"
   },
   "outputs": [
    {
     "name": "stdout",
     "output_type": "stream",
     "text": [
      "Model: \"sequential_1\"\n",
      "_________________________________________________________________\n",
      "Layer (type)                 Output Shape              Param #   \n",
      "=================================================================\n",
      "dense_1 (Dense)              (None, 8)                 6280      \n",
      "_________________________________________________________________\n",
      "dense_2 (Dense)              (None, 16)                144       \n",
      "_________________________________________________________________\n",
      "dense_3 (Dense)              (None, 32)                544       \n",
      "_________________________________________________________________\n",
      "dense_4 (Dense)              (None, 64)                2112      \n",
      "_________________________________________________________________\n",
      "dense_5 (Dense)              (None, 128)               8320      \n",
      "_________________________________________________________________\n",
      "dense_6 (Dense)              (None, 10)                1290      \n",
      "=================================================================\n",
      "Total params: 18,690\n",
      "Trainable params: 18,690\n",
      "Non-trainable params: 0\n",
      "_________________________________________________________________\n"
     ]
    }
   ],
   "source": [
    "from keras.utils import to_categorical\n",
    "DNNmodel = Sequential()\n",
    "\"\"\"Hidden layer 1 - 5\"\"\"\n",
    "DNNmodel.add(Dense(8,input_shape = (28*28,),activation='relu'))\n",
    "DNNmodel.add(Dense(16,activation='relu'))\n",
    "DNNmodel.add(Dense(32,activation='relu'))\n",
    "DNNmodel.add(Dense(64,activation='relu'))\n",
    "DNNmodel.add(Dense(128,activation='relu'))\n",
    "DNNmodel.add(Dense(10,activation='softmax'))\n",
    "adam = optimizers.Adam(learning_rate = 0.001)\n",
    "DNNmodel.compile(loss=keras.losses.categorical_crossentropy, optimizer = adam, metrics=['accuracy'])\n",
    "DNNmodel.summary()"
   ]
  },
  {
   "cell_type": "code",
   "execution_count": 5,
   "metadata": {
    "colab": {
     "base_uri": "https://localhost:8080/",
     "height": 1000
    },
    "colab_type": "code",
    "executionInfo": {
     "elapsed": 602300,
     "status": "ok",
     "timestamp": 1588173042767,
     "user": {
      "displayName": "Yanan Song",
      "photoUrl": "",
      "userId": "00508964450983762398"
     },
     "user_tz": 300
    },
    "id": "5H6Tla3v3-PG",
    "outputId": "4ebca619-4eda-4f49-af58-91c3521a6068"
   },
   "outputs": [
    {
     "name": "stdout",
     "output_type": "stream",
     "text": [
      "Epoch 1/100\n",
      "60000/60000 [==============================] - 7s 123us/step - loss: 0.5305 - accuracy: 0.8282\n",
      "Epoch 2/100\n",
      "60000/60000 [==============================] - 6s 95us/step - loss: 0.2861 - accuracy: 0.9116\n",
      "Epoch 3/100\n",
      "60000/60000 [==============================] - 6s 95us/step - loss: 0.2448 - accuracy: 0.9240\n",
      "Epoch 4/100\n",
      "60000/60000 [==============================] - 6s 95us/step - loss: 0.2178 - accuracy: 0.9329\n",
      "Epoch 5/100\n",
      "60000/60000 [==============================] - 6s 95us/step - loss: 0.2026 - accuracy: 0.9372\n",
      "Epoch 6/100\n",
      "60000/60000 [==============================] - 6s 97us/step - loss: 0.1893 - accuracy: 0.9417\n",
      "Epoch 7/100\n",
      "60000/60000 [==============================] - 6s 96us/step - loss: 0.1816 - accuracy: 0.9434\n",
      "Epoch 8/100\n",
      "60000/60000 [==============================] - 6s 95us/step - loss: 0.1733 - accuracy: 0.9455\n",
      "Epoch 9/100\n",
      "60000/60000 [==============================] - 6s 96us/step - loss: 0.1652 - accuracy: 0.9477\n",
      "Epoch 10/100\n",
      "60000/60000 [==============================] - 6s 96us/step - loss: 0.1600 - accuracy: 0.9494\n",
      "Epoch 11/100\n",
      "60000/60000 [==============================] - 6s 96us/step - loss: 0.1564 - accuracy: 0.9511\n",
      "Epoch 12/100\n",
      "60000/60000 [==============================] - 6s 96us/step - loss: 0.1491 - accuracy: 0.9528\n",
      "Epoch 13/100\n",
      "60000/60000 [==============================] - 6s 96us/step - loss: 0.1460 - accuracy: 0.9538\n",
      "Epoch 14/100\n",
      "60000/60000 [==============================] - 6s 95us/step - loss: 0.1425 - accuracy: 0.9546\n",
      "Epoch 15/100\n",
      "60000/60000 [==============================] - 6s 95us/step - loss: 0.1393 - accuracy: 0.9550\n",
      "Epoch 16/100\n",
      "60000/60000 [==============================] - 6s 94us/step - loss: 0.1366 - accuracy: 0.9561\n",
      "Epoch 17/100\n",
      "60000/60000 [==============================] - 6s 95us/step - loss: 0.1326 - accuracy: 0.9566\n",
      "Epoch 18/100\n",
      "60000/60000 [==============================] - 6s 95us/step - loss: 0.1296 - accuracy: 0.9571\n",
      "Epoch 19/100\n",
      "60000/60000 [==============================] - 6s 97us/step - loss: 0.1272 - accuracy: 0.9588\n",
      "Epoch 20/100\n",
      "60000/60000 [==============================] - 6s 100us/step - loss: 0.1251 - accuracy: 0.9591\n",
      "Epoch 21/100\n",
      "60000/60000 [==============================] - 6s 95us/step - loss: 0.1218 - accuracy: 0.9599\n",
      "Epoch 22/100\n",
      "60000/60000 [==============================] - 6s 95us/step - loss: 0.1209 - accuracy: 0.9600\n",
      "Epoch 23/100\n",
      "60000/60000 [==============================] - 6s 95us/step - loss: 0.1197 - accuracy: 0.9610\n",
      "Epoch 24/100\n",
      "60000/60000 [==============================] - 6s 95us/step - loss: 0.1165 - accuracy: 0.9621\n",
      "Epoch 25/100\n",
      "60000/60000 [==============================] - 6s 96us/step - loss: 0.1155 - accuracy: 0.9612\n",
      "Epoch 26/100\n",
      "60000/60000 [==============================] - 6s 96us/step - loss: 0.1143 - accuracy: 0.9625\n",
      "Epoch 27/100\n",
      "60000/60000 [==============================] - 6s 96us/step - loss: 0.1097 - accuracy: 0.9633\n",
      "Epoch 28/100\n",
      "60000/60000 [==============================] - 6s 95us/step - loss: 0.1091 - accuracy: 0.9640\n",
      "Epoch 29/100\n",
      "60000/60000 [==============================] - 6s 95us/step - loss: 0.1059 - accuracy: 0.9650\n",
      "Epoch 30/100\n",
      "60000/60000 [==============================] - 6s 95us/step - loss: 0.1057 - accuracy: 0.9651\n",
      "Epoch 31/100\n",
      "60000/60000 [==============================] - 6s 95us/step - loss: 0.1037 - accuracy: 0.9656\n",
      "Epoch 32/100\n",
      "60000/60000 [==============================] - 6s 96us/step - loss: 0.1012 - accuracy: 0.9661\n",
      "Epoch 33/100\n",
      "60000/60000 [==============================] - 6s 96us/step - loss: 0.1028 - accuracy: 0.9646\n",
      "Epoch 34/100\n",
      "60000/60000 [==============================] - 6s 96us/step - loss: 0.1000 - accuracy: 0.9675\n",
      "Epoch 35/100\n",
      "60000/60000 [==============================] - 6s 95us/step - loss: 0.0977 - accuracy: 0.9670\n",
      "Epoch 36/100\n",
      "60000/60000 [==============================] - 6s 95us/step - loss: 0.0948 - accuracy: 0.9678\n",
      "Epoch 37/100\n",
      "60000/60000 [==============================] - 6s 100us/step - loss: 0.0938 - accuracy: 0.9678\n",
      "Epoch 38/100\n",
      "60000/60000 [==============================] - 6s 95us/step - loss: 0.0929 - accuracy: 0.9689\n",
      "Epoch 39/100\n",
      "60000/60000 [==============================] - 6s 96us/step - loss: 0.0912 - accuracy: 0.9682\n",
      "Epoch 40/100\n",
      "60000/60000 [==============================] - 6s 95us/step - loss: 0.0915 - accuracy: 0.9686\n",
      "Epoch 41/100\n",
      "60000/60000 [==============================] - 6s 95us/step - loss: 0.0895 - accuracy: 0.9694\n",
      "Epoch 42/100\n",
      "60000/60000 [==============================] - 6s 94us/step - loss: 0.0883 - accuracy: 0.9696\n",
      "Epoch 43/100\n",
      "60000/60000 [==============================] - 6s 96us/step - loss: 0.0868 - accuracy: 0.9704\n",
      "Epoch 44/100\n",
      "60000/60000 [==============================] - 6s 96us/step - loss: 0.0855 - accuracy: 0.9707\n",
      "Epoch 45/100\n",
      "60000/60000 [==============================] - 6s 96us/step - loss: 0.0828 - accuracy: 0.9718\n",
      "Epoch 46/100\n",
      "60000/60000 [==============================] - 6s 98us/step - loss: 0.0829 - accuracy: 0.9716\n",
      "Epoch 47/100\n",
      "60000/60000 [==============================] - 6s 96us/step - loss: 0.0811 - accuracy: 0.9721\n",
      "Epoch 48/100\n",
      "60000/60000 [==============================] - 6s 97us/step - loss: 0.0808 - accuracy: 0.9727\n",
      "Epoch 49/100\n",
      "60000/60000 [==============================] - 6s 95us/step - loss: 0.0806 - accuracy: 0.9721\n",
      "Epoch 50/100\n",
      "60000/60000 [==============================] - 6s 95us/step - loss: 0.0796 - accuracy: 0.9726\n",
      "Epoch 51/100\n",
      "60000/60000 [==============================] - 6s 100us/step - loss: 0.0787 - accuracy: 0.9726\n",
      "Epoch 52/100\n",
      "60000/60000 [==============================] - 6s 100us/step - loss: 0.0757 - accuracy: 0.9741\n",
      "Epoch 53/100\n",
      "60000/60000 [==============================] - 6s 94us/step - loss: 0.0756 - accuracy: 0.9739\n",
      "Epoch 54/100\n",
      "60000/60000 [==============================] - 6s 94us/step - loss: 0.0765 - accuracy: 0.9732\n",
      "Epoch 55/100\n",
      "60000/60000 [==============================] - 6s 94us/step - loss: 0.0734 - accuracy: 0.9744\n",
      "Epoch 56/100\n",
      "60000/60000 [==============================] - 6s 94us/step - loss: 0.0751 - accuracy: 0.9739\n",
      "Epoch 57/100\n",
      "60000/60000 [==============================] - 6s 95us/step - loss: 0.0729 - accuracy: 0.9744\n",
      "Epoch 58/100\n",
      "60000/60000 [==============================] - 6s 96us/step - loss: 0.0717 - accuracy: 0.9750\n",
      "Epoch 59/100\n",
      "60000/60000 [==============================] - 6s 95us/step - loss: 0.0700 - accuracy: 0.9758\n",
      "Epoch 60/100\n",
      "60000/60000 [==============================] - 6s 95us/step - loss: 0.0691 - accuracy: 0.9756\n",
      "Epoch 61/100\n",
      "60000/60000 [==============================] - 6s 97us/step - loss: 0.0670 - accuracy: 0.9764\n",
      "Epoch 62/100\n",
      "60000/60000 [==============================] - 6s 97us/step - loss: 0.0688 - accuracy: 0.9761\n",
      "Epoch 63/100\n",
      "60000/60000 [==============================] - 6s 96us/step - loss: 0.0660 - accuracy: 0.9769\n",
      "Epoch 64/100\n",
      "60000/60000 [==============================] - 6s 96us/step - loss: 0.0657 - accuracy: 0.9770\n",
      "Epoch 65/100\n",
      "60000/60000 [==============================] - 6s 95us/step - loss: 0.0665 - accuracy: 0.9770\n",
      "Epoch 66/100\n",
      "60000/60000 [==============================] - 6s 96us/step - loss: 0.0659 - accuracy: 0.9771\n",
      "Epoch 67/100\n",
      "60000/60000 [==============================] - 6s 96us/step - loss: 0.0654 - accuracy: 0.9767\n",
      "Epoch 68/100\n",
      "60000/60000 [==============================] - 6s 96us/step - loss: 0.0648 - accuracy: 0.9779\n",
      "Epoch 69/100\n",
      "60000/60000 [==============================] - 6s 97us/step - loss: 0.0650 - accuracy: 0.9773\n",
      "Epoch 70/100\n",
      "60000/60000 [==============================] - 6s 95us/step - loss: 0.0625 - accuracy: 0.9778\n",
      "Epoch 71/100\n",
      "60000/60000 [==============================] - 6s 95us/step - loss: 0.0617 - accuracy: 0.9780\n",
      "Epoch 72/100\n",
      "60000/60000 [==============================] - 6s 96us/step - loss: 0.0619 - accuracy: 0.9776\n",
      "Epoch 73/100\n",
      "60000/60000 [==============================] - 6s 102us/step - loss: 0.0626 - accuracy: 0.9772\n",
      "Epoch 74/100\n",
      "60000/60000 [==============================] - 6s 97us/step - loss: 0.0623 - accuracy: 0.9778\n",
      "Epoch 75/100\n",
      "60000/60000 [==============================] - 6s 95us/step - loss: 0.0578 - accuracy: 0.9798\n",
      "Epoch 76/100\n",
      "60000/60000 [==============================] - 6s 94us/step - loss: 0.0584 - accuracy: 0.9790\n",
      "Epoch 77/100\n",
      "60000/60000 [==============================] - 6s 97us/step - loss: 0.0616 - accuracy: 0.9780\n",
      "Epoch 78/100\n",
      "60000/60000 [==============================] - 6s 95us/step - loss: 0.0596 - accuracy: 0.9789\n",
      "Epoch 79/100\n",
      "60000/60000 [==============================] - 6s 96us/step - loss: 0.0595 - accuracy: 0.9792\n",
      "Epoch 80/100\n",
      "60000/60000 [==============================] - 6s 96us/step - loss: 0.0570 - accuracy: 0.9799\n",
      "Epoch 81/100\n",
      "60000/60000 [==============================] - 6s 95us/step - loss: 0.0539 - accuracy: 0.9809\n",
      "Epoch 82/100\n",
      "60000/60000 [==============================] - 6s 95us/step - loss: 0.0600 - accuracy: 0.9787\n",
      "Epoch 83/100\n",
      "60000/60000 [==============================] - 6s 95us/step - loss: 0.0530 - accuracy: 0.9815\n",
      "Epoch 84/100\n",
      "60000/60000 [==============================] - 6s 96us/step - loss: 0.0582 - accuracy: 0.9790\n",
      "Epoch 85/100\n",
      "60000/60000 [==============================] - 6s 96us/step - loss: 0.0521 - accuracy: 0.9808\n",
      "Epoch 86/100\n",
      "60000/60000 [==============================] - 6s 96us/step - loss: 0.0574 - accuracy: 0.9801\n",
      "Epoch 87/100\n",
      "60000/60000 [==============================] - 6s 98us/step - loss: 0.0548 - accuracy: 0.9807\n",
      "Epoch 88/100\n",
      "60000/60000 [==============================] - 6s 96us/step - loss: 0.0538 - accuracy: 0.9804\n",
      "Epoch 89/100\n",
      "60000/60000 [==============================] - 6s 95us/step - loss: 0.0522 - accuracy: 0.9812\n",
      "Epoch 90/100\n",
      "60000/60000 [==============================] - 6s 94us/step - loss: 0.0561 - accuracy: 0.9796\n",
      "Epoch 91/100\n",
      "60000/60000 [==============================] - 6s 94us/step - loss: 0.0518 - accuracy: 0.9811\n",
      "Epoch 92/100\n",
      "60000/60000 [==============================] - 6s 93us/step - loss: 0.0531 - accuracy: 0.9811\n",
      "Epoch 93/100\n",
      "60000/60000 [==============================] - 6s 94us/step - loss: 0.0512 - accuracy: 0.9818\n",
      "Epoch 94/100\n",
      "60000/60000 [==============================] - 6s 94us/step - loss: 0.0493 - accuracy: 0.9822\n",
      "Epoch 95/100\n",
      "60000/60000 [==============================] - 6s 93us/step - loss: 0.0542 - accuracy: 0.9805\n",
      "Epoch 96/100\n",
      "60000/60000 [==============================] - 6s 93us/step - loss: 0.0523 - accuracy: 0.9814\n",
      "Epoch 97/100\n",
      "60000/60000 [==============================] - 6s 95us/step - loss: 0.0517 - accuracy: 0.9815\n",
      "Epoch 98/100\n",
      "60000/60000 [==============================] - 6s 94us/step - loss: 0.0519 - accuracy: 0.9810\n",
      "Epoch 99/100\n",
      "60000/60000 [==============================] - 6s 95us/step - loss: 0.0472 - accuracy: 0.9826\n",
      "Epoch 100/100\n",
      "60000/60000 [==============================] - 6s 93us/step - loss: 0.0514 - accuracy: 0.9815\n"
     ]
    },
    {
     "data": {
      "text/plain": [
       "<keras.callbacks.callbacks.History at 0x7f0b383b34e0>"
      ]
     },
     "execution_count": 5,
     "metadata": {
      "tags": []
     },
     "output_type": "execute_result"
    }
   ],
   "source": [
    "DNNmodel.fit(X_train_min_max.reshape(-1,28*28), to_categorical(y_train),epochs= 100,batch_size=64)"
   ]
  },
  {
   "cell_type": "markdown",
   "metadata": {
    "colab_type": "text",
    "id": "2jEv8kz1iMXf"
   },
   "source": [
    "4) Use Keras Python API to implement a Convolutional Neural Network (CNN) with 5 convolution layers and four max-pooling layers.\n",
    "a. Set optimizer='adam'\n",
    "b. Properly adjust the other hyperparameters such as epochs, filter size, batch_size,\n",
    "activation function, and learning rate."
   ]
  },
  {
   "cell_type": "code",
   "execution_count": 6,
   "metadata": {
    "colab": {
     "base_uri": "https://localhost:8080/",
     "height": 561
    },
    "colab_type": "code",
    "executionInfo": {
     "elapsed": 602294,
     "status": "ok",
     "timestamp": 1588173042767,
     "user": {
      "displayName": "Yanan Song",
      "photoUrl": "",
      "userId": "00508964450983762398"
     },
     "user_tz": 300
    },
    "id": "lpvfykUd3-PJ",
    "outputId": "06a26841-7c4c-4274-a327-7596eb4a3d83"
   },
   "outputs": [
    {
     "name": "stdout",
     "output_type": "stream",
     "text": [
      "Model: \"sequential_2\"\n",
      "_________________________________________________________________\n",
      "Layer (type)                 Output Shape              Param #   \n",
      "=================================================================\n",
      "conv2d_1 (Conv2D)            (None, 28, 28, 32)        320       \n",
      "_________________________________________________________________\n",
      "conv2d_2 (Conv2D)            (None, 28, 28, 64)        18496     \n",
      "_________________________________________________________________\n",
      "max_pooling2d_1 (MaxPooling2 (None, 14, 14, 64)        0         \n",
      "_________________________________________________________________\n",
      "conv2d_3 (Conv2D)            (None, 14, 14, 64)        36928     \n",
      "_________________________________________________________________\n",
      "max_pooling2d_2 (MaxPooling2 (None, 7, 7, 64)          0         \n",
      "_________________________________________________________________\n",
      "conv2d_4 (Conv2D)            (None, 7, 7, 64)          36928     \n",
      "_________________________________________________________________\n",
      "max_pooling2d_3 (MaxPooling2 (None, 3, 3, 64)          0         \n",
      "_________________________________________________________________\n",
      "conv2d_5 (Conv2D)            (None, 3, 3, 64)          36928     \n",
      "_________________________________________________________________\n",
      "max_pooling2d_4 (MaxPooling2 (None, 1, 1, 64)          0         \n",
      "_________________________________________________________________\n",
      "flatten_1 (Flatten)          (None, 64)                0         \n",
      "_________________________________________________________________\n",
      "dropout_1 (Dropout)          (None, 64)                0         \n",
      "_________________________________________________________________\n",
      "dense_7 (Dense)              (None, 10)                650       \n",
      "=================================================================\n",
      "Total params: 130,250\n",
      "Trainable params: 130,250\n",
      "Non-trainable params: 0\n",
      "_________________________________________________________________\n"
     ]
    }
   ],
   "source": [
    "CNNmodel = Sequential()\n",
    "CNNmodel.add(Conv2D(32, kernel_size=(3, 3),\n",
    "                 activation='relu',\n",
    "                padding='same',\n",
    "                 input_shape=(28,28,1,)))\n",
    "\n",
    "CNNmodel.add(Conv2D(64, (3, 3),padding='same',strides=1, activation='relu'))\n",
    "CNNmodel.add(MaxPooling2D(pool_size=(2, 2)))\n",
    "\n",
    "\n",
    "CNNmodel.add(Conv2D(64, (3, 3), padding='same',strides=1, activation='relu'))\n",
    "CNNmodel.add(MaxPooling2D(pool_size=(2, 2)))\n",
    "\n",
    "\n",
    "CNNmodel.add(Conv2D(64, (3, 3), padding='same',strides=1, activation='relu'))\n",
    "CNNmodel.add(MaxPooling2D(pool_size=(2, 2)))\n",
    "\n",
    "\n",
    "CNNmodel.add(Conv2D(64, (3, 3), padding='same',strides=1, activation='relu'))\n",
    "CNNmodel.add(MaxPooling2D(pool_size=(2, 2)))\n",
    "CNNmodel.add(Flatten())\n",
    "CNNmodel.add(Dropout(0.2))\n",
    "\n",
    "CNNmodel.add(Dense(10, activation='softmax'))\n",
    "CNNmodel.compile(loss=keras.losses.categorical_crossentropy,\n",
    "              optimizer='adam',\n",
    "              metrics=['accuracy'])\n",
    "CNNmodel.summary()"
   ]
  },
  {
   "cell_type": "code",
   "execution_count": 7,
   "metadata": {
    "colab": {
     "base_uri": "https://localhost:8080/",
     "height": 714
    },
    "colab_type": "code",
    "executionInfo": {
     "elapsed": 935291,
     "status": "ok",
     "timestamp": 1588173375770,
     "user": {
      "displayName": "Yanan Song",
      "photoUrl": "",
      "userId": "00508964450983762398"
     },
     "user_tz": 300
    },
    "id": "KQW5QQop3-PL",
    "outputId": "995fe082-4a04-4f9c-cf83-03fcb78c20bd"
   },
   "outputs": [
    {
     "name": "stdout",
     "output_type": "stream",
     "text": [
      "Epoch 1/20\n",
      "60000/60000 [==============================] - 23s 385us/step - loss: 0.2208 - accuracy: 0.9308\n",
      "Epoch 2/20\n",
      "60000/60000 [==============================] - 17s 281us/step - loss: 0.0636 - accuracy: 0.9814\n",
      "Epoch 3/20\n",
      "60000/60000 [==============================] - 17s 276us/step - loss: 0.0449 - accuracy: 0.9868\n",
      "Epoch 4/20\n",
      "60000/60000 [==============================] - 17s 275us/step - loss: 0.0341 - accuracy: 0.9894\n",
      "Epoch 5/20\n",
      "60000/60000 [==============================] - 16s 273us/step - loss: 0.0285 - accuracy: 0.9911\n",
      "Epoch 6/20\n",
      "60000/60000 [==============================] - 16s 271us/step - loss: 0.0225 - accuracy: 0.9933\n",
      "Epoch 7/20\n",
      "60000/60000 [==============================] - 16s 273us/step - loss: 0.0204 - accuracy: 0.9934\n",
      "Epoch 8/20\n",
      "60000/60000 [==============================] - 16s 270us/step - loss: 0.0181 - accuracy: 0.9943\n",
      "Epoch 9/20\n",
      "60000/60000 [==============================] - 16s 274us/step - loss: 0.0165 - accuracy: 0.9946\n",
      "Epoch 10/20\n",
      "60000/60000 [==============================] - 16s 267us/step - loss: 0.0130 - accuracy: 0.9957\n",
      "Epoch 11/20\n",
      "60000/60000 [==============================] - 16s 268us/step - loss: 0.0127 - accuracy: 0.9957\n",
      "Epoch 12/20\n",
      "60000/60000 [==============================] - 16s 268us/step - loss: 0.0137 - accuracy: 0.9953\n",
      "Epoch 13/20\n",
      "60000/60000 [==============================] - 16s 265us/step - loss: 0.0111 - accuracy: 0.9964\n",
      "Epoch 14/20\n",
      "60000/60000 [==============================] - 16s 267us/step - loss: 0.0091 - accuracy: 0.9968\n",
      "Epoch 15/20\n",
      "60000/60000 [==============================] - 16s 269us/step - loss: 0.0089 - accuracy: 0.9971\n",
      "Epoch 16/20\n",
      "60000/60000 [==============================] - 16s 269us/step - loss: 0.0102 - accuracy: 0.9967\n",
      "Epoch 17/20\n",
      "60000/60000 [==============================] - 16s 267us/step - loss: 0.0082 - accuracy: 0.9975\n",
      "Epoch 18/20\n",
      "60000/60000 [==============================] - 16s 269us/step - loss: 0.0074 - accuracy: 0.9976\n",
      "Epoch 19/20\n",
      "60000/60000 [==============================] - 16s 269us/step - loss: 0.0073 - accuracy: 0.9975\n",
      "Epoch 20/20\n",
      "60000/60000 [==============================] - 16s 271us/step - loss: 0.0078 - accuracy: 0.9974\n"
     ]
    },
    {
     "data": {
      "text/plain": [
       "<keras.callbacks.callbacks.History at 0x7f0ad84a4f28>"
      ]
     },
     "execution_count": 7,
     "metadata": {
      "tags": []
     },
     "output_type": "execute_result"
    }
   ],
   "source": [
    "CNNmodel.fit(X_train_min_max.reshape(-1,28,28,1), to_categorical(y_train),epochs=20,batch_size=64)"
   ]
  },
  {
   "cell_type": "markdown",
   "metadata": {
    "colab_type": "text",
    "id": "JwmfmAKQiTKI"
   },
   "source": [
    "5) Report classification results in terms of overall accuracy for both the abovementioned 5-\n",
    "hidden layer DNN and CNN.\n"
   ]
  },
  {
   "cell_type": "code",
   "execution_count": 8,
   "metadata": {
    "colab": {
     "base_uri": "https://localhost:8080/",
     "height": 85
    },
    "colab_type": "code",
    "executionInfo": {
     "elapsed": 936079,
     "status": "ok",
     "timestamp": 1588173376560,
     "user": {
      "displayName": "Yanan Song",
      "photoUrl": "",
      "userId": "00508964450983762398"
     },
     "user_tz": 300
    },
    "id": "d1CDgeAyH7nI",
    "outputId": "795e3907-429d-4941-c44c-debd58610ec4"
   },
   "outputs": [
    {
     "name": "stdout",
     "output_type": "stream",
     "text": [
      "10000/10000 [==============================] - 1s 77us/step\n",
      "5-hidden layer DNN\n",
      "Test loss: 0.3394925344989984\n",
      "Test accuracy: 0.939300000667572\n"
     ]
    }
   ],
   "source": [
    "DNNscores = DNNmodel.evaluate(X_test_min_max.reshape(-1,28*28), to_categorical(y_test), verbose=1)\n",
    "print(\"5-hidden layer DNN\")\n",
    "print('Test loss:', DNNscores[0])\n",
    "print('Test accuracy:', DNNscores[1])"
   ]
  },
  {
   "cell_type": "code",
   "execution_count": 9,
   "metadata": {
    "colab": {
     "base_uri": "https://localhost:8080/",
     "height": 85
    },
    "colab_type": "code",
    "executionInfo": {
     "elapsed": 937445,
     "status": "ok",
     "timestamp": 1588173377931,
     "user": {
      "displayName": "Yanan Song",
      "photoUrl": "",
      "userId": "00508964450983762398"
     },
     "user_tz": 300
    },
    "id": "J0c-DaNd3-PM",
    "outputId": "c6b2fa8d-e967-46a0-9a07-fb5b264b0b86"
   },
   "outputs": [
    {
     "name": "stdout",
     "output_type": "stream",
     "text": [
      "10000/10000 [==============================] - 2s 153us/step\n",
      "CNN\n",
      "Test loss: 0.03581284178188514\n",
      "Test accuracy: 0.9923999905586243\n"
     ]
    }
   ],
   "source": [
    "CNNscores = CNNmodel.evaluate(X_test_min_max.reshape(-1,28,28,1), to_categorical(y_test), verbose=1)\n",
    "print(\"CNN\")\n",
    "print('Test loss:', CNNscores[0])\n",
    "print('Test accuracy:', CNNscores[1])"
   ]
  },
  {
   "cell_type": "markdown",
   "metadata": {
    "colab_type": "text",
    "id": "AhQOlfwVhBz6"
   },
   "source": [
    "6) Based on the classification results, answers the following questions:"
   ]
  },
  {
   "cell_type": "markdown",
   "metadata": {
    "colab_type": "text",
    "id": "ZujuAQcNixW4"
   },
   "source": [
    "a. Which deep learning method (DNN-5hidden layer or CNN) provides better accuracy. And why?\n",
    "\n",
    "A:CNN provides better accuracy. Because in DNN the 2D data input reduced to 1D data, it may not represent features in image very well. CNN can find an internal representation of an image better than DNN."
   ]
  },
  {
   "cell_type": "markdown",
   "metadata": {
    "colab_type": "text",
    "id": "vR_uuuEti_HN"
   },
   "source": [
    "b. How does the value of the learning rate and filter size affect the CNN classification accuracy?\n",
    "\n",
    "A too large learning rate can cause the model converage to a suboptimal solution or even cannot coverage.\n",
    "A smaller learning rates need more epochs to coverage<br>\n",
    "\n",
    "A larger filter size would result in more overlap, and get a larger receptive field.\n",
    "If a big amount of pixels are necessary for the network to recognize the object, use  larger filters. If the differences are some small features, use small filters."
   ]
  },
  {
   "cell_type": "markdown",
   "metadata": {
    "colab_type": "text",
    "id": "O818J2HEd5E3"
   },
   "source": [
    "c. Does the increased hidden layer in DNN size improve the classification accuracy?<br>\n",
    "\n",
    "Increase the number of hidden layers in DNN might improve or reduce accuracy. \n",
    "If the number of hidden layers too large will cause the model overfitting to the training set which reduces the accuracy. "
   ]
  },
  {
   "cell_type": "markdown",
   "metadata": {
    "colab_type": "text",
    "id": "fsx7trkHd6gy"
   },
   "source": [
    "Summary<br>\n",
    "In this homework, I learn the concept of neural network, use Keras to implement DNN and CNN and try different hyperparameters to get higher accuracy. CNN gets a higher accuracy in the MNIST dataset."
   ]
  },
  {
   "cell_type": "code",
   "execution_count": 0,
   "metadata": {
    "colab": {},
    "colab_type": "code",
    "id": "cywimnAognPA"
   },
   "outputs": [],
   "source": []
  }
 ],
 "metadata": {
  "accelerator": "GPU",
  "colab": {
   "collapsed_sections": [],
   "name": "HW7.ipynb",
   "provenance": []
  },
  "kernelspec": {
   "display_name": "Python 3",
   "language": "python",
   "name": "python3"
  },
  "language_info": {
   "codemirror_mode": {
    "name": "ipython",
    "version": 3
   },
   "file_extension": ".py",
   "mimetype": "text/x-python",
   "name": "python",
   "nbconvert_exporter": "python",
   "pygments_lexer": "ipython3",
   "version": "3.7.4"
  }
 },
 "nbformat": 4,
 "nbformat_minor": 1
}
