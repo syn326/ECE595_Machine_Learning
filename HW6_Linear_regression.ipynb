{
 "cells": [
  {
   "cell_type": "markdown",
   "metadata": {},
   "source": [
    "<h3><center>ECE 49500/59500 Machine Learning<center>\n",
    "<center>Spring 2020<center>\n",
    "<h2><center>Linear Regresion for House Prices Prediction<center>"
   ]
  },
  {
   "cell_type": "markdown",
   "metadata": {},
   "source": [
    "Yanan Song"
   ]
  },
  {
   "cell_type": "markdown",
   "metadata": {},
   "source": [
    "1. Load dataset"
   ]
  },
  {
   "cell_type": "code",
   "execution_count": 1,
   "metadata": {},
   "outputs": [],
   "source": [
    "from sklearn.datasets import load_boston\n",
    "import pandas as pd\n",
    "import numpy as np"
   ]
  },
  {
   "cell_type": "code",
   "execution_count": 2,
   "metadata": {},
   "outputs": [],
   "source": [
    "boston = load_boston(return_X_y = False)\n",
    "X = pd.DataFrame(boston.data, columns=boston.feature_names)\n",
    "y = pd.DataFrame(boston.target, columns=[\"target\"])\n",
    "# X = X['RM'] , X['AGE'] ,X['LSTAT']\n",
    "X = X[['RM', 'AGE', 'LSTAT']]\n",
    "y = np.array(y)"
   ]
  },
  {
   "cell_type": "code",
   "execution_count": 3,
   "metadata": {},
   "outputs": [
    {
     "data": {
      "text/html": [
       "<div>\n",
       "<style scoped>\n",
       "    .dataframe tbody tr th:only-of-type {\n",
       "        vertical-align: middle;\n",
       "    }\n",
       "\n",
       "    .dataframe tbody tr th {\n",
       "        vertical-align: top;\n",
       "    }\n",
       "\n",
       "    .dataframe thead th {\n",
       "        text-align: right;\n",
       "    }\n",
       "</style>\n",
       "<table border=\"1\" class=\"dataframe\">\n",
       "  <thead>\n",
       "    <tr style=\"text-align: right;\">\n",
       "      <th></th>\n",
       "      <th>RM</th>\n",
       "      <th>AGE</th>\n",
       "      <th>LSTAT</th>\n",
       "    </tr>\n",
       "  </thead>\n",
       "  <tbody>\n",
       "    <tr>\n",
       "      <td>0</td>\n",
       "      <td>6.575</td>\n",
       "      <td>65.2</td>\n",
       "      <td>4.98</td>\n",
       "    </tr>\n",
       "    <tr>\n",
       "      <td>1</td>\n",
       "      <td>6.421</td>\n",
       "      <td>78.9</td>\n",
       "      <td>9.14</td>\n",
       "    </tr>\n",
       "    <tr>\n",
       "      <td>2</td>\n",
       "      <td>7.185</td>\n",
       "      <td>61.1</td>\n",
       "      <td>4.03</td>\n",
       "    </tr>\n",
       "    <tr>\n",
       "      <td>3</td>\n",
       "      <td>6.998</td>\n",
       "      <td>45.8</td>\n",
       "      <td>2.94</td>\n",
       "    </tr>\n",
       "    <tr>\n",
       "      <td>4</td>\n",
       "      <td>7.147</td>\n",
       "      <td>54.2</td>\n",
       "      <td>5.33</td>\n",
       "    </tr>\n",
       "    <tr>\n",
       "      <td>5</td>\n",
       "      <td>6.430</td>\n",
       "      <td>58.7</td>\n",
       "      <td>5.21</td>\n",
       "    </tr>\n",
       "    <tr>\n",
       "      <td>6</td>\n",
       "      <td>6.012</td>\n",
       "      <td>66.6</td>\n",
       "      <td>12.43</td>\n",
       "    </tr>\n",
       "    <tr>\n",
       "      <td>7</td>\n",
       "      <td>6.172</td>\n",
       "      <td>96.1</td>\n",
       "      <td>19.15</td>\n",
       "    </tr>\n",
       "    <tr>\n",
       "      <td>8</td>\n",
       "      <td>5.631</td>\n",
       "      <td>100.0</td>\n",
       "      <td>29.93</td>\n",
       "    </tr>\n",
       "    <tr>\n",
       "      <td>9</td>\n",
       "      <td>6.004</td>\n",
       "      <td>85.9</td>\n",
       "      <td>17.10</td>\n",
       "    </tr>\n",
       "  </tbody>\n",
       "</table>\n",
       "</div>"
      ],
      "text/plain": [
       "      RM    AGE  LSTAT\n",
       "0  6.575   65.2   4.98\n",
       "1  6.421   78.9   9.14\n",
       "2  7.185   61.1   4.03\n",
       "3  6.998   45.8   2.94\n",
       "4  7.147   54.2   5.33\n",
       "5  6.430   58.7   5.21\n",
       "6  6.012   66.6  12.43\n",
       "7  6.172   96.1  19.15\n",
       "8  5.631  100.0  29.93\n",
       "9  6.004   85.9  17.10"
      ]
     },
     "execution_count": 3,
     "metadata": {},
     "output_type": "execute_result"
    }
   ],
   "source": [
    "X.head(10)"
   ]
  },
  {
   "cell_type": "markdown",
   "metadata": {},
   "source": [
    "2. Feature Scaling for X"
   ]
  },
  {
   "cell_type": "code",
   "execution_count": 4,
   "metadata": {},
   "outputs": [],
   "source": [
    "from sklearn.preprocessing import StandardScaler\n",
    "X_Standardisation = StandardScaler().fit_transform(X) "
   ]
  },
  {
   "cell_type": "code",
   "execution_count": 5,
   "metadata": {},
   "outputs": [
    {
     "data": {
      "text/plain": [
       "array([[ 0.41367189, -0.12001342, -1.0755623 ],\n",
       "       [ 0.19427445,  0.36716642, -0.49243937],\n",
       "       [ 1.28271368, -0.26581176, -1.2087274 ],\n",
       "       [ 1.01630251, -0.80988851, -1.36151682],\n",
       "       [ 1.22857665, -0.51117971, -1.02650148],\n",
       "       [ 0.20709638, -0.35115713, -1.04332233],\n",
       "       [-0.38841095, -0.07022862, -0.03126762],\n",
       "       [-0.16046556,  0.97880825,  0.91070021],\n",
       "       [-0.9312059 ,  1.11749449,  2.42177359],\n",
       "       [-0.39980821,  0.61609042,  0.62334395]])"
      ]
     },
     "execution_count": 5,
     "metadata": {},
     "output_type": "execute_result"
    }
   ],
   "source": [
    "X_Standardisation[:10]"
   ]
  },
  {
   "cell_type": "markdown",
   "metadata": {},
   "source": [
    "3.Split dataset into training and testing sets"
   ]
  },
  {
   "cell_type": "code",
   "execution_count": 6,
   "metadata": {},
   "outputs": [],
   "source": [
    "from sklearn.model_selection import train_test_split\n",
    "X_train, X_test, y_train, y_test = train_test_split(X_Standardisation,y, test_size = 0.3, shuffle = True, random_state = 0)"
   ]
  },
  {
   "cell_type": "code",
   "execution_count": 41,
   "metadata": {},
   "outputs": [],
   "source": [
    "class GDLinearRegressor():\n",
    "    \"\"\"i. Set the parameters such as the learning rate and the number of iteration\"\"\"\n",
    "    def __init__(self, learning_rate = 0.01, max_iter = 2000):\n",
    "        self.X = X\n",
    "        self.learning_rate = learning_rate\n",
    "        self.max_iter = max_iter\n",
    "        self.w0 = None\n",
    "        self.w = None\n",
    "        self.J = None\n",
    "        \n",
    "    def fit(self, X_train, y_train):\n",
    "        \"\"\"ii. Apply gradient descent to update parameters 𝑤 (initially set them to 0)\"\"\"\n",
    "        n_samples = X_train.shape[0]\n",
    "        n_features = X_train.shape[1]\n",
    "        w0 = 0\n",
    "        w = np.zeros((n_features, 1))\n",
    "        J = []\n",
    "        loss = []\n",
    "        \n",
    "        for i in range(self.max_iter):\n",
    "            #hypothesis function\n",
    "            y_hat = np.dot(X_train,w) + w0\n",
    "            #calculate loss \n",
    "            loss = y_hat - y_train\n",
    "            #gradient descent, update w\n",
    "            w = w - self.learning_rate *  X_train.T.dot(loss) / (n_samples)\n",
    "            w0 = w0 - self.learning_rate * np.sum(loss) /  (n_samples)\n",
    "            #save all cost\n",
    "            J.append(np.sum(loss ** 2) / (2 * n_samples))\n",
    "        \"\"\"iii. Obtain optimal paramters that minimize the cost function\"\"\"\n",
    "        self.w0 = w0\n",
    "        self.w = w\n",
    "        self.J = J\n",
    "    def predict(self, X_test):\n",
    "        \"\"\"i. Multiple the optimized 𝑤 to the test data to get the predicted values\"\"\"\n",
    "        y_pred = []\n",
    "        for sample in X_test:\n",
    "            y_pred.append(np.dot(sample, self.w) + self.w0)\n",
    "        return np.array(y_pred)\n",
    "            \n",
    "        \n",
    "        "
   ]
  },
  {
   "cell_type": "code",
   "execution_count": 42,
   "metadata": {},
   "outputs": [],
   "source": [
    "clf = GDLinearRegressor()\n",
    "clf.fit(X_train,y_train)"
   ]
  },
  {
   "cell_type": "code",
   "execution_count": 43,
   "metadata": {},
   "outputs": [],
   "source": [
    "y_pred = clf.predict(X_test)"
   ]
  },
  {
   "cell_type": "markdown",
   "metadata": {},
   "source": [
    "5. Plot the cost function versus the number of iteration"
   ]
  },
  {
   "cell_type": "code",
   "execution_count": 45,
   "metadata": {},
   "outputs": [
    {
     "data": {
      "image/png": "[encoded data removed]",
      "text/plain": [
       "<Figure size 432x288 with 1 Axes>"
      ]
     },
     "metadata": {
      "needs_background": "light"
     },
     "output_type": "display_data"
    }
   ],
   "source": [
    "import matplotlib.pyplot as plt\n",
    "plt.plot(clf.J)\n",
    "plt.show()"
   ]
  },
  {
   "cell_type": "markdown",
   "metadata": {},
   "source": [
    "6. Performance evaluation\n",
    "Compute RMSE (root mean squared error)"
   ]
  },
  {
   "cell_type": "code",
   "execution_count": 28,
   "metadata": {},
   "outputs": [
    {
     "name": "stdout",
     "output_type": "stream",
     "text": [
      "RMSE :  5.746187290559474\n"
     ]
    }
   ],
   "source": [
    "import math\n",
    "\n",
    "def RMSE(y_test, y_pred):\n",
    "    n_samples = y_test.shape[0]\n",
    "    return math.sqrt(np.sum((y_test - y_pred) ** 2) / n_samples)\n",
    "print(\"RMSE : \", RMSE(y_test, y_pred))"
   ]
  },
  {
   "cell_type": "markdown",
   "metadata": {},
   "source": [
    "Summary"
   ]
  },
  {
   "cell_type": "markdown",
   "metadata": {},
   "source": [
    "Implement multivariate linear regression algorithm and apply it for house prices prediction.<br>\n",
    "The Root Mean Square Error is 5.746<br>\n",
    "Algorithm implementation<br>\n",
    "1) Calculate hypothesis function<br>\n",
    "2) Calculate loss <br>\n",
    "3) apply gradient descent<br>\n",
    "4) Obtain optimal paramters that minimize the cost function<br>\n",
    "5) Multiple the optimized 𝑤 to the test data to get the predicted values<br>"
   ]
  },
  {
   "cell_type": "code",
   "execution_count": null,
   "metadata": {},
   "outputs": [],
   "source": []
  }
 ],
 "metadata": {
  "kernelspec": {
   "display_name": "Python 3",
   "language": "python",
   "name": "python3"
  },
  "language_info": {
   "codemirror_mode": {
    "name": "ipython",
    "version": 3
   },
   "file_extension": ".py",
   "mimetype": "text/x-python",
   "name": "python",
   "nbconvert_exporter": "python",
   "pygments_lexer": "ipython3",
   "version": "3.7.4"
  }
 },
 "nbformat": 4,
 "nbformat_minor": 2
}
